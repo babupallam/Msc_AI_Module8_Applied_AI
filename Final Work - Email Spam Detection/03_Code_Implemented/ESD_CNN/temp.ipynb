{
 "cells": [
  {
   "cell_type": "markdown",
   "metadata": {},
   "source": [
    "## Email span detection using Convolutional Neural Networks(CNN) with Sequential API \n"
   ]
  },
  {
   "cell_type": "markdown",
   "metadata": {},
   "source": [
    "# 1. Simple CNN Model\n"
   ]
  },
  {
   "cell_type": "code",
   "execution_count": 5,
   "metadata": {},
   "outputs": [],
   "source": [
    "import pandas as pd\n",
    "import numpy as np\n",
    "from sklearn.model_selection import train_test_split\n",
    "from sklearn.preprocessing import LabelEncoder\n",
    "from tensorflow.keras.preprocessing.text import Tokenizer\n",
    "from tensorflow.keras.preprocessing.sequence import pad_sequences\n",
    "from tensorflow.keras.models import Sequential\n",
    "from tensorflow.keras.layers import Embedding, Conv1D, GlobalMaxPooling1D, Dense, Dropout\n",
    "from tensorflow.keras.optimizers import Adam\n",
    "\n"
   ]
  },
  {
   "cell_type": "markdown",
   "metadata": {},
   "source": [
    "Load the Dataset: Load the dataset from the CSV file into a Pandas DataFrame."
   ]
  },
  {
   "cell_type": "code",
   "execution_count": 6,
   "metadata": {},
   "outputs": [],
   "source": [
    "\n",
    "# Step 1: Load the dataset\n",
    "data = pd.read_csv('test_data.csv')"
   ]
  },
  {
   "cell_type": "markdown",
   "metadata": {},
   "source": [
    "Preprocess the Data: Encode the 'Category' column to numerical labels using LabelEncoder. Split the dataset into training and testing sets using train_test_split."
   ]
  },
  {
   "cell_type": "code",
   "execution_count": 3,
   "metadata": {},
   "outputs": [],
   "source": [
    "\n",
    "# Step 2: Preprocess the data\n",
    "# Encode the 'Category' column to numerical labels\n",
    "\n",
    "#This line initializes a new instance of the LabelEncoder class. LabelEncoder is a utility class in scikit-learn that converts categorical labels into numerical labels.\n",
    "label_encoder = LabelEncoder()\n",
    "\n",
    "\n",
    "#This line applies the fit_transform method of the LabelEncoder object to the 'Category' column of your dataset (data['Category']).\n",
    "#fit_transform fits the encoder to the unique labels in the 'Category' column and transforms them into numerical labels.\n",
    "#The transformed numerical labels are then assigned back to the 'Category' column in the data DataFrame.\n",
    "data['Category'] = label_encoder.fit_transform(data['Category'])\n"
   ]
  },
  {
   "cell_type": "code",
   "execution_count": 10,
   "metadata": {},
   "outputs": [],
   "source": [
    "#The 'Category' column in your DataFrame will contain numerical labels instead of the original categorical labels. These numerical labels can be used directly as target values for training machine learning models.\n",
    "#data['Category']\n"
   ]
  },
  {
   "cell_type": "code",
   "execution_count": 5,
   "metadata": {},
   "outputs": [],
   "source": [
    "\n",
    "# Split the dataset into training and testing sets\n",
    "X_train, X_test, y_train, y_test = train_test_split(data['Message'], data['Category'], test_size=0.2, random_state=42)\n"
   ]
  },
  {
   "cell_type": "markdown",
   "metadata": {},
   "source": [
    "Tokenize the Text Data: Use Tokenizer from Keras to tokenize the text data."
   ]
  },
  {
   "cell_type": "code",
   "execution_count": 6,
   "metadata": {},
   "outputs": [],
   "source": [
    "# Step 3: Tokenize the text data\n",
    "max_words = 1000 # max_words is a variable that determines the maximum number of unique words to be considered in the tokenizer. In this case, it's set to 1000, meaning only the top 1000 most frequent words will be considered.\n",
    "\n",
    "tokenizer = Tokenizer(num_words=max_words) #Tokenizer is a class from the Keras library used for tokenizing text data.\n",
    "#num_words is a parameter that specifies the maximum number of words to keep, based on word frequency. Words outside this limit will be ignored. Here, it's set to max_words, so only the top 1000 most frequent words will be kept.\n",
    "\n",
    "tokenizer.fit_on_texts(X_train)\n",
    "#This line fits the tokenizer on the training text data (X_train).\n",
    "#It updates the internal vocabulary based on the text data and assigns a unique index to each word in the vocabulary.\n",
    "#After this step, the tokenizer is ready to convert text data into sequences of numerical indices based on the fitted vocabulary."
   ]
  },
  {
   "cell_type": "code",
   "execution_count": 7,
   "metadata": {},
   "outputs": [],
   "source": [
    "\n",
    "# Convert text to sequences\n",
    "X_train_seq = tokenizer.texts_to_sequences(X_train)\n",
    "X_test_seq = tokenizer.texts_to_sequences(X_test)\n",
    "#It produces a list of sequences, where each sequence represents a text in the testing set as a sequence of numerical indices.\n",
    "\n",
    "#X_train_seq and X_test_seq will contain the text data from the training and testing sets, respectively, represented as sequences of numerical indices based on the vocabulary learned by the tokenizer."
   ]
  },
  {
   "cell_type": "markdown",
   "metadata": {},
   "source": [
    "Pad Sequences: Pad the sequences to ensure uniform length using pad_sequences.\n"
   ]
  },
  {
   "cell_type": "code",
   "execution_count": 8,
   "metadata": {},
   "outputs": [],
   "source": [
    "\n",
    "# Step 4: Pad sequences to ensure uniform length\n",
    "max_len = 100\n",
    "X_train_pad = pad_sequences(X_train_seq, maxlen=max_len)\n",
    "X_test_pad = pad_sequences(X_test_seq, maxlen=max_len)"
   ]
  },
  {
   "cell_type": "markdown",
   "metadata": {},
   "source": [
    "Build the CNN Model: Create a Sequential model with Embedding layer, Conv1D layer, GlobalMaxPooling1D layer, Dense layers, and Dropout layer."
   ]
  },
  {
   "cell_type": "code",
   "execution_count": 1,
   "metadata": {},
   "outputs": [],
   "source": [
    "#Sequential?"
   ]
  },
  {
   "cell_type": "code",
   "execution_count": 2,
   "metadata": {},
   "outputs": [],
   "source": [
    "#Dense?"
   ]
  },
  {
   "cell_type": "code",
   "execution_count": 11,
   "metadata": {},
   "outputs": [
    {
     "name": "stderr",
     "output_type": "stream",
     "text": [
      "c:\\Users\\Girija\\Desktop\\AI Msc\\BLOCK 04 Research Methods and Applications\\PART B\\ASSESSMENT 3\\SDS_CNN\\.venv\\lib\\site-packages\\keras\\src\\layers\\core\\embedding.py:90: UserWarning: Argument `input_length` is deprecated. Just remove it.\n",
      "  warnings.warn(\n"
     ]
    },
    {
     "data": {
      "text/html": [
       "<pre style=\"white-space:pre;overflow-x:auto;line-height:normal;font-family:Menlo,'DejaVu Sans Mono',consolas,'Courier New',monospace\"><span style=\"font-weight: bold\">Model: \"sequential\"</span>\n",
       "</pre>\n"
      ],
      "text/plain": [
       "\u001b[1mModel: \"sequential\"\u001b[0m\n"
      ]
     },
     "metadata": {},
     "output_type": "display_data"
    },
    {
     "data": {
      "text/html": [
       "<pre style=\"white-space:pre;overflow-x:auto;line-height:normal;font-family:Menlo,'DejaVu Sans Mono',consolas,'Courier New',monospace\">┏━━━━━━━━━━━━━━━━━━━━━━━━━━━━━━━━━┳━━━━━━━━━━━━━━━━━━━━━━━━┳━━━━━━━━━━━━━━━┓\n",
       "┃<span style=\"font-weight: bold\"> Layer (type)                    </span>┃<span style=\"font-weight: bold\"> Output Shape           </span>┃<span style=\"font-weight: bold\">       Param # </span>┃\n",
       "┡━━━━━━━━━━━━━━━━━━━━━━━━━━━━━━━━━╇━━━━━━━━━━━━━━━━━━━━━━━━╇━━━━━━━━━━━━━━━┩\n",
       "│ embedding (<span style=\"color: #0087ff; text-decoration-color: #0087ff\">Embedding</span>)           │ ?                      │   <span style=\"color: #00af00; text-decoration-color: #00af00\">0</span> (unbuilt) │\n",
       "├─────────────────────────────────┼────────────────────────┼───────────────┤\n",
       "│ conv1d (<span style=\"color: #0087ff; text-decoration-color: #0087ff\">Conv1D</span>)                 │ ?                      │   <span style=\"color: #00af00; text-decoration-color: #00af00\">0</span> (unbuilt) │\n",
       "├─────────────────────────────────┼────────────────────────┼───────────────┤\n",
       "│ global_max_pooling1d            │ ?                      │   <span style=\"color: #00af00; text-decoration-color: #00af00\">0</span> (unbuilt) │\n",
       "│ (<span style=\"color: #0087ff; text-decoration-color: #0087ff\">GlobalMaxPooling1D</span>)            │                        │               │\n",
       "├─────────────────────────────────┼────────────────────────┼───────────────┤\n",
       "│ dense (<span style=\"color: #0087ff; text-decoration-color: #0087ff\">Dense</span>)                   │ ?                      │   <span style=\"color: #00af00; text-decoration-color: #00af00\">0</span> (unbuilt) │\n",
       "├─────────────────────────────────┼────────────────────────┼───────────────┤\n",
       "│ dropout (<span style=\"color: #0087ff; text-decoration-color: #0087ff\">Dropout</span>)               │ ?                      │   <span style=\"color: #00af00; text-decoration-color: #00af00\">0</span> (unbuilt) │\n",
       "├─────────────────────────────────┼────────────────────────┼───────────────┤\n",
       "│ dense_1 (<span style=\"color: #0087ff; text-decoration-color: #0087ff\">Dense</span>)                 │ ?                      │   <span style=\"color: #00af00; text-decoration-color: #00af00\">0</span> (unbuilt) │\n",
       "└─────────────────────────────────┴────────────────────────┴───────────────┘\n",
       "</pre>\n"
      ],
      "text/plain": [
       "┏━━━━━━━━━━━━━━━━━━━━━━━━━━━━━━━━━┳━━━━━━━━━━━━━━━━━━━━━━━━┳━━━━━━━━━━━━━━━┓\n",
       "┃\u001b[1m \u001b[0m\u001b[1mLayer (type)                   \u001b[0m\u001b[1m \u001b[0m┃\u001b[1m \u001b[0m\u001b[1mOutput Shape          \u001b[0m\u001b[1m \u001b[0m┃\u001b[1m \u001b[0m\u001b[1m      Param #\u001b[0m\u001b[1m \u001b[0m┃\n",
       "┡━━━━━━━━━━━━━━━━━━━━━━━━━━━━━━━━━╇━━━━━━━━━━━━━━━━━━━━━━━━╇━━━━━━━━━━━━━━━┩\n",
       "│ embedding (\u001b[38;5;33mEmbedding\u001b[0m)           │ ?                      │   \u001b[38;5;34m0\u001b[0m (unbuilt) │\n",
       "├─────────────────────────────────┼────────────────────────┼───────────────┤\n",
       "│ conv1d (\u001b[38;5;33mConv1D\u001b[0m)                 │ ?                      │   \u001b[38;5;34m0\u001b[0m (unbuilt) │\n",
       "├─────────────────────────────────┼────────────────────────┼───────────────┤\n",
       "│ global_max_pooling1d            │ ?                      │   \u001b[38;5;34m0\u001b[0m (unbuilt) │\n",
       "│ (\u001b[38;5;33mGlobalMaxPooling1D\u001b[0m)            │                        │               │\n",
       "├─────────────────────────────────┼────────────────────────┼───────────────┤\n",
       "│ dense (\u001b[38;5;33mDense\u001b[0m)                   │ ?                      │   \u001b[38;5;34m0\u001b[0m (unbuilt) │\n",
       "├─────────────────────────────────┼────────────────────────┼───────────────┤\n",
       "│ dropout (\u001b[38;5;33mDropout\u001b[0m)               │ ?                      │   \u001b[38;5;34m0\u001b[0m (unbuilt) │\n",
       "├─────────────────────────────────┼────────────────────────┼───────────────┤\n",
       "│ dense_1 (\u001b[38;5;33mDense\u001b[0m)                 │ ?                      │   \u001b[38;5;34m0\u001b[0m (unbuilt) │\n",
       "└─────────────────────────────────┴────────────────────────┴───────────────┘\n"
      ]
     },
     "metadata": {},
     "output_type": "display_data"
    },
    {
     "data": {
      "text/html": [
       "<pre style=\"white-space:pre;overflow-x:auto;line-height:normal;font-family:Menlo,'DejaVu Sans Mono',consolas,'Courier New',monospace\"><span style=\"font-weight: bold\"> Total params: </span><span style=\"color: #00af00; text-decoration-color: #00af00\">0</span> (0.00 B)\n",
       "</pre>\n"
      ],
      "text/plain": [
       "\u001b[1m Total params: \u001b[0m\u001b[38;5;34m0\u001b[0m (0.00 B)\n"
      ]
     },
     "metadata": {},
     "output_type": "display_data"
    },
    {
     "data": {
      "text/html": [
       "<pre style=\"white-space:pre;overflow-x:auto;line-height:normal;font-family:Menlo,'DejaVu Sans Mono',consolas,'Courier New',monospace\"><span style=\"font-weight: bold\"> Trainable params: </span><span style=\"color: #00af00; text-decoration-color: #00af00\">0</span> (0.00 B)\n",
       "</pre>\n"
      ],
      "text/plain": [
       "\u001b[1m Trainable params: \u001b[0m\u001b[38;5;34m0\u001b[0m (0.00 B)\n"
      ]
     },
     "metadata": {},
     "output_type": "display_data"
    },
    {
     "data": {
      "text/html": [
       "<pre style=\"white-space:pre;overflow-x:auto;line-height:normal;font-family:Menlo,'DejaVu Sans Mono',consolas,'Courier New',monospace\"><span style=\"font-weight: bold\"> Non-trainable params: </span><span style=\"color: #00af00; text-decoration-color: #00af00\">0</span> (0.00 B)\n",
       "</pre>\n"
      ],
      "text/plain": [
       "\u001b[1m Non-trainable params: \u001b[0m\u001b[38;5;34m0\u001b[0m (0.00 B)\n"
      ]
     },
     "metadata": {},
     "output_type": "display_data"
    }
   ],
   "source": [
    "# Step 5: Build the CNN model\n",
    "embedding_dim = 50\n",
    "num_filters = 64\n",
    "filter_size = 5\n",
    "\n",
    "\n",
    "#This code defines a Convolutional Neural Network (CNN) model using the Keras Sequential API\n",
    "\n",
    "model = Sequential([\n",
    "    Embedding(input_dim=max_words, output_dim=embedding_dim, input_length=max_len),  #layer 1\n",
    "    Conv1D(filters=num_filters, kernel_size=filter_size, padding='same', activation='relu'),   #layer 2\n",
    "    GlobalMaxPooling1D(), \n",
    "    Dense(256, activation='relu'),\n",
    "    Dropout(0.5),\n",
    "    Dense(1, activation='sigmoid')\n",
    "])\n",
    "\n",
    "\n",
    "#The Embedding layer is responsible for converting sequences of integers (word indices) into dense vectors of fixed size.\n",
    "    #Embedding Layer is a component in deep learning models that is used to represent categorical or discrete data as continuous vectors.\n",
    "    #input_dim specifies the size of the vocabulary, i.e., the maximum integer index + 1.\n",
    "    #output_dim specifies the dimension of the dense embedding.\n",
    "    #input_length specifies the length of input sequences (in this case, max_len).\n",
    "\n",
    "#Conv1D is a one-dimensional convolutional layer. It applies convolution operation over one spatial dimension (usually time for text data).\n",
    "    #filters is the number of filters (or kernels) in the convolutional layer.\n",
    "    #kernel_size specifies the length of the 1D convolution window.\n",
    "    #activation='relu' applies the Rectified Linear Unit (ReLU) activation function to introduce non-linearity.\n",
    "\n",
    "\n",
    "#GlobalMaxPooling1D layer performs max pooling operation across the entire sequence, retaining the maximum value from each feature map.\n",
    "    #It reduces the spatial dimensions of the feature maps to a single vector by taking the maximum value along each feature dimension.\n",
    "\n",
    "#Dense layer is a fully connected layer where every neuron is connected to every neuron in the previous layer.\n",
    "    #256 is the number of neurons in the layer.\n",
    "    #activation='relu' applies the ReLU activation function.\n",
    "\n",
    "#Dropout layer is a regularization technique that randomly sets a fraction of input units to zero during training to prevent overfitting.\n",
    "    #0.5 specifies the dropout rate, i.e., 50% of the input units will be randomly dropped during training.\n",
    "    #model.compile(optimizer='adam', loss='binary_crossentropy', metrics=['accuracy'])\n",
    "\n",
    "#Dense layer with a single neuron and a sigmoid activation function.\n",
    "    #The sigmoid activation function squashes the output between 0 and 1, making it suitable for binary classification tasks.\n",
    "\n"
   ]
  },
  {
   "cell_type": "markdown",
   "metadata": {},
   "source": [
    "Train the Model: Compile and train the model on the training data using the specified optimizer, loss function, batch size, and number of epochs."
   ]
  },
  {
   "cell_type": "code",
   "execution_count": 48,
   "metadata": {},
   "outputs": [
    {
     "name": "stdout",
     "output_type": "stream",
     "text": [
      "Epoch 1/5\n",
      "\u001b[1m70/70\u001b[0m \u001b[32m━━━━━━━━━━━━━━━━━━━━\u001b[0m\u001b[37m\u001b[0m \u001b[1m3s\u001b[0m 21ms/step - accuracy: 0.9882 - loss: 0.0372 - val_accuracy: 0.9892 - val_loss: 0.0431\n",
      "Epoch 2/5\n",
      "\u001b[1m70/70\u001b[0m \u001b[32m━━━━━━━━━━━━━━━━━━━━\u001b[0m\u001b[37m\u001b[0m \u001b[1m1s\u001b[0m 14ms/step - accuracy: 0.9960 - loss: 0.0202 - val_accuracy: 0.9883 - val_loss: 0.0475\n",
      "Epoch 3/5\n",
      "\u001b[1m70/70\u001b[0m \u001b[32m━━━━━━━━━━━━━━━━━━━━\u001b[0m\u001b[37m\u001b[0m \u001b[1m1s\u001b[0m 13ms/step - accuracy: 0.9963 - loss: 0.0155 - val_accuracy: 0.9883 - val_loss: 0.0438\n",
      "Epoch 4/5\n",
      "\u001b[1m70/70\u001b[0m \u001b[32m━━━━━━━━━━━━━━━━━━━━\u001b[0m\u001b[37m\u001b[0m \u001b[1m1s\u001b[0m 16ms/step - accuracy: 0.9974 - loss: 0.0096 - val_accuracy: 0.9901 - val_loss: 0.0449\n",
      "Epoch 5/5\n",
      "\u001b[1m70/70\u001b[0m \u001b[32m━━━━━━━━━━━━━━━━━━━━\u001b[0m\u001b[37m\u001b[0m \u001b[1m1s\u001b[0m 12ms/step - accuracy: 0.9991 - loss: 0.0041 - val_accuracy: 0.9883 - val_loss: 0.0493\n"
     ]
    }
   ],
   "source": [
    "# Step 6: Train the model\n",
    " # Compile the model with the specified learning rate\n",
    "optimizer = Adam()\n",
    "model.compile(optimizer=optimizer, loss='binary_crossentropy', metrics=['accuracy'])\n",
    "\n",
    "batch_size = 64\n",
    "#batch_size determines the number of samples per gradient update during training. In each iteration, the model will process and update weights based on 64 samples.\n",
    "\n",
    "epochs = 5\n",
    "#epochs specifies the number of epochs (iterations over the entire dataset) for training the model. Here, the model will be trained for 5 epochs.\n",
    "\n",
    "history = model.fit(X_train_pad, y_train, batch_size=batch_size, epochs=epochs, validation_data=(X_test_pad, y_test))\n",
    "\n",
    "#model.fit is a method that trains the model on the given training data.\n",
    "    #X_train_pad is the preprocessed training text data.\n",
    "    #y_train is the corresponding labels for the training data.\n",
    "    #validation_data=(X_test_pad, y_test) specifies the validation data to evaluate the model's performance after each epoch. Here, X_test_pad is the preprocessed testing text data, and y_test is the corresponding labels for the testing data.\n",
    "    #During training, the model will be optimized using the specified optimizer, and the loss function specified during model compilation (binary_crossentropy in this case).\n",
    "    #The training progress and performance metrics (loss and accuracy) will be stored in the history object for later visualization and analysis."
   ]
  },
  {
   "cell_type": "markdown",
   "metadata": {},
   "source": [
    "## Predict Single Input"
   ]
  },
  {
   "cell_type": "code",
   "execution_count": 20,
   "metadata": {},
   "outputs": [],
   "source": [
    "# Example of spam or ham prediction\n",
    "def predict_spam_or_ham(message):\n",
    "    # Tokenize and pad the input message\n",
    "    message_seq = tokenizer.texts_to_sequences([message])\n",
    "    message_pad = pad_sequences(message_seq, maxlen=max_len)\n",
    "    \n",
    "    # Make predictions\n",
    "    prediction = model.predict(message_pad)\n",
    "    \n",
    "    print(prediction)\n",
    "    # Convert prediction to label (0 for ham, 1 for spam)\n",
    "    label = \"spam\" if prediction[0][0] > 0.5 else \"ham\"\n",
    "    \n",
    "    return label\n"
   ]
  },
  {
   "cell_type": "code",
   "execution_count": 21,
   "metadata": {},
   "outputs": [
    {
     "name": "stdout",
     "output_type": "stream",
     "text": [
      "\u001b[1m1/1\u001b[0m \u001b[32m━━━━━━━━━━━━━━━━━━━━\u001b[0m\u001b[37m\u001b[0m \u001b[1m0s\u001b[0m 82ms/step\n",
      "[[0.9996732]]\n",
      "Predicted Label: spam\n"
     ]
    }
   ],
   "source": [
    "\n",
    "# Example message\n",
    "example_message = \"Congratulations! You've won a free trip to Hawaii. Claim your prize now!\"\n",
    "\n",
    "# Predict if the message is spam or ham\n",
    "prediction = predict_spam_or_ham(example_message)\n",
    "print(\"Predicted Label:\", prediction)"
   ]
  },
  {
   "cell_type": "code",
   "execution_count": 22,
   "metadata": {},
   "outputs": [
    {
     "name": "stdout",
     "output_type": "stream",
     "text": [
      "\u001b[1m1/1\u001b[0m \u001b[32m━━━━━━━━━━━━━━━━━━━━\u001b[0m\u001b[37m\u001b[0m \u001b[1m0s\u001b[0m 43ms/step\n",
      "[[0.3697101]]\n",
      "Predicted Label: ham\n"
     ]
    }
   ],
   "source": [
    "\n",
    "# Example message\n",
    "example_message = \"This email provides relevant information about an upcoming programming workshop and encourages the recipient to RSVP if interested. It does not contain any elements typically associated with spam, such as unsolicited offers, suspicious links, or irrelevant content.\"\n",
    "\n",
    "# Predict if the message is spam or ham\n",
    "prediction = predict_spam_or_ham(example_message)\n",
    "print(\"Predicted Label:\", prediction)"
   ]
  },
  {
   "cell_type": "markdown",
   "metadata": {},
   "source": [
    "# Performance Analysis"
   ]
  },
  {
   "cell_type": "markdown",
   "metadata": {},
   "source": [
    "## Model Evaluation"
   ]
  },
  {
   "cell_type": "markdown",
   "metadata": {},
   "source": [
    "1. **Accuracy**: Measure the overall accuracy of the model on the test dataset.\n"
   ]
  },
  {
   "cell_type": "code",
   "execution_count": 17,
   "metadata": {},
   "outputs": [],
   "source": [
    "\n",
    "# Evaluate the model\n",
    "loss, accuracy = model.evaluate(X_test_pad, y_test)\n",
    "print(\"Test Accuracy:\", accuracy)"
   ]
  },
  {
   "cell_type": "markdown",
   "metadata": {},
   "source": [
    "2. **Precision**: Evaluate how many of the predicted positives are actual positives.\n"
   ]
  },
  {
   "cell_type": "code",
   "execution_count": 8,
   "metadata": {},
   "outputs": [],
   "source": [
    "\n",
    "from sklearn.metrics import precision_score"
   ]
  },
  {
   "cell_type": "code",
   "execution_count": 25,
   "metadata": {},
   "outputs": [
    {
     "name": "stdout",
     "output_type": "stream",
     "text": [
      "\u001b[1m35/35\u001b[0m \u001b[32m━━━━━━━━━━━━━━━━━━━━\u001b[0m\u001b[37m\u001b[0m \u001b[1m0s\u001b[0m 4ms/step\n",
      "Precision: 0.97\n"
     ]
    }
   ],
   "source": [
    "\n",
    "# Predict probabilities ( the output is in probability, bacuse we use a sigmoid activation function in the final layer of your neural network, which outputs probabilities between 0 and 1.)\n",
    "y_pred_prob = model.predict(X_test_pad)\n",
    "\n",
    "\n",
    "#note that common threshold value is 0.5\n",
    "# Convert probabilities to binary class labels\n",
    "y_pred = (y_pred_prob > 0.5).astype(int)\n",
    "\n",
    "\n",
    "# Calculate precision\n",
    "precision = precision_score(y_test, y_pred)\n",
    "print(f'Precision: {precision:.2f}')"
   ]
  },
  {
   "cell_type": "markdown",
   "metadata": {},
   "source": [
    "3. **Recall**: Determine how many of the actual positives are correctly identified by the model.\n"
   ]
  },
  {
   "cell_type": "code",
   "execution_count": 26,
   "metadata": {},
   "outputs": [],
   "source": [
    "from sklearn.metrics import recall_score\n"
   ]
  },
  {
   "cell_type": "code",
   "execution_count": 27,
   "metadata": {},
   "outputs": [
    {
     "name": "stdout",
     "output_type": "stream",
     "text": [
      "Recall: 0.93\n"
     ]
    }
   ],
   "source": [
    "\n",
    "# Calculate recall\n",
    "recall = recall_score(y_test, y_pred)\n",
    "print(f'Recall: {recall:.2f}')"
   ]
  },
  {
   "cell_type": "markdown",
   "metadata": {},
   "source": [
    "4. **F1 Score**: Calculate the harmonic mean of precision and recall to get a single performance metric.\n"
   ]
  },
  {
   "cell_type": "code",
   "execution_count": 28,
   "metadata": {},
   "outputs": [],
   "source": [
    "from sklearn.metrics import f1_score\n"
   ]
  },
  {
   "cell_type": "code",
   "execution_count": 30,
   "metadata": {},
   "outputs": [
    {
     "name": "stdout",
     "output_type": "stream",
     "text": [
      "F1 Score: 1.00\n"
     ]
    }
   ],
   "source": [
    "\n",
    "# Assuming y_true and y_pred are the true labels and predicted labels, respectively\n",
    "# Calculate F1 score\n",
    "f1 = f1_score(y_pred, y_pred)\n",
    "\n",
    "print(f'F1 Score: {f1:.2f}')"
   ]
  },
  {
   "cell_type": "markdown",
   "metadata": {},
   "source": [
    "5. **Confusion Matrix**: Analyze the confusion matrix to understand the true positives, false positives, true negatives, and false negatives.\n"
   ]
  },
  {
   "cell_type": "code",
   "execution_count": 32,
   "metadata": {},
   "outputs": [],
   "source": [
    "from sklearn.metrics import confusion_matrix\n"
   ]
  },
  {
   "cell_type": "code",
   "execution_count": 33,
   "metadata": {},
   "outputs": [
    {
     "name": "stdout",
     "output_type": "stream",
     "text": [
      "Confusion Matrix:\n",
      "[[961   5]\n",
      " [ 10 139]]\n"
     ]
    }
   ],
   "source": [
    "\n",
    "# Confusion matrix\n",
    "conf_matrix = confusion_matrix(y_test, y_pred)\n",
    "print(\"Confusion Matrix:\")\n",
    "print(conf_matrix)"
   ]
  },
  {
   "cell_type": "markdown",
   "metadata": {},
   "source": [
    "plot confusion matrix"
   ]
  },
  {
   "cell_type": "code",
   "execution_count": 35,
   "metadata": {},
   "outputs": [],
   "source": [
    "import seaborn as sns\n",
    "import matplotlib.pyplot as plt"
   ]
  },
  {
   "cell_type": "code",
   "execution_count": 36,
   "metadata": {},
   "outputs": [
    {
     "data": {
      "image/png": "[encoded data removed]",
      "text/plain": [
       "<Figure size 640x480 with 2 Axes>"
      ]
     },
     "metadata": {},
     "output_type": "display_data"
    }
   ],
   "source": [
    "# Plot confusion matrix\n",
    "sns.heatmap(conf_matrix, annot=True, cmap='Blues', fmt='g')\n",
    "plt.xlabel('Predicted labels')\n",
    "plt.ylabel('True labels')\n",
    "plt.title('Confusion Matrix')\n",
    "plt.show()\n"
   ]
  },
  {
   "cell_type": "markdown",
   "metadata": {},
   "source": [
    "## Resource Utilization\n"
   ]
  },
  {
   "cell_type": "markdown",
   "metadata": {},
   "source": [
    "1. **Training Time**: Measure the time taken to train the model."
   ]
  },
  {
   "cell_type": "code",
   "execution_count": 38,
   "metadata": {},
   "outputs": [],
   "source": [
    "import time"
   ]
  },
  {
   "cell_type": "code",
   "execution_count": 39,
   "metadata": {},
   "outputs": [
    {
     "name": "stdout",
     "output_type": "stream",
     "text": [
      "Epoch 1/5\n",
      "\u001b[1m70/70\u001b[0m \u001b[32m━━━━━━━━━━━━━━━━━━━━\u001b[0m\u001b[37m\u001b[0m \u001b[1m1s\u001b[0m 14ms/step - accuracy: 0.9985 - loss: 0.0062 - val_accuracy: 0.9865 - val_loss: 0.0563\n",
      "Epoch 2/5\n",
      "\u001b[1m70/70\u001b[0m \u001b[32m━━━━━━━━━━━━━━━━━━━━\u001b[0m\u001b[37m\u001b[0m \u001b[1m1s\u001b[0m 16ms/step - accuracy: 0.9989 - loss: 0.0048 - val_accuracy: 0.9865 - val_loss: 0.0624\n",
      "Epoch 3/5\n",
      "\u001b[1m70/70\u001b[0m \u001b[32m━━━━━━━━━━━━━━━━━━━━\u001b[0m\u001b[37m\u001b[0m \u001b[1m1s\u001b[0m 16ms/step - accuracy: 0.9992 - loss: 0.0044 - val_accuracy: 0.9865 - val_loss: 0.0646\n",
      "Epoch 4/5\n",
      "\u001b[1m70/70\u001b[0m \u001b[32m━━━━━━━━━━━━━━━━━━━━\u001b[0m\u001b[37m\u001b[0m \u001b[1m1s\u001b[0m 18ms/step - accuracy: 0.9996 - loss: 0.0019 - val_accuracy: 0.9874 - val_loss: 0.0694\n",
      "Epoch 5/5\n",
      "\u001b[1m70/70\u001b[0m \u001b[32m━━━━━━━━━━━━━━━━━━━━\u001b[0m\u001b[37m\u001b[0m \u001b[1m1s\u001b[0m 15ms/step - accuracy: 0.9999 - loss: 0.0012 - val_accuracy: 0.9874 - val_loss: 0.0713\n",
      "Training time: 6.16 seconds\n"
     ]
    }
   ],
   "source": [
    "\n",
    "# Measure the training time\n",
    "start_time = time.time()\n",
    "\n",
    "# Train the model\n",
    "history = model.fit(X_train_pad, y_train, batch_size=batch_size, epochs=epochs, validation_data=(X_test_pad, y_test))\n",
    "\n",
    "end_time = time.time()\n",
    "training_time = end_time - start_time\n",
    "print(f\"Training time: {training_time:.2f} seconds\")"
   ]
  },
  {
   "cell_type": "markdown",
   "metadata": {},
   "source": [
    "2. **Inference Time**: Check the time taken for the model to make predictions.\n"
   ]
  },
  {
   "cell_type": "code",
   "execution_count": 41,
   "metadata": {},
   "outputs": [
    {
     "name": "stdout",
     "output_type": "stream",
     "text": [
      "\u001b[1m35/35\u001b[0m \u001b[32m━━━━━━━━━━━━━━━━━━━━\u001b[0m\u001b[37m\u001b[0m \u001b[1m0s\u001b[0m 6ms/step\n",
      "Inference Time: 0.3549 seconds\n"
     ]
    }
   ],
   "source": [
    "\n",
    "# Measure inference time\n",
    "start_time = time.time()\n",
    "y_pred_prob = model.predict(X_test_pad)\n",
    "end_time = time.time()\n",
    "inference_time = end_time - start_time\n",
    "print(f'Inference Time: {inference_time:.4f} seconds')\n"
   ]
  },
  {
   "cell_type": "markdown",
   "metadata": {},
   "source": [
    "\n",
    "## Hyperparameter Tuning\n"
   ]
  },
  {
   "cell_type": "markdown",
   "metadata": {},
   "source": [
    "1. **Learning Rate**: Optimize and analyze the effect of different learning rates."
   ]
  },
  {
   "cell_type": "code",
   "execution_count": 51,
   "metadata": {},
   "outputs": [
    {
     "name": "stdout",
     "output_type": "stream",
     "text": [
      "Epoch 1/5\n"
     ]
    },
    {
     "name": "stderr",
     "output_type": "stream",
     "text": [
      "c:\\Users\\Girija\\Desktop\\AI Msc\\BLOCK 04 Research Methods and Applications\\PART B\\ASSESSMENT 3\\SDS_CNN\\.venv\\lib\\site-packages\\keras\\src\\layers\\core\\embedding.py:90: UserWarning: Argument `input_length` is deprecated. Just remove it.\n",
      "  warnings.warn(\n"
     ]
    },
    {
     "name": "stdout",
     "output_type": "stream",
     "text": [
      "\u001b[1m70/70\u001b[0m \u001b[32m━━━━━━━━━━━━━━━━━━━━\u001b[0m\u001b[37m\u001b[0m \u001b[1m4s\u001b[0m 21ms/step - accuracy: 0.8649 - loss: 0.4744 - val_accuracy: 0.8664 - val_loss: 0.3028\n",
      "Epoch 2/5\n",
      "\u001b[1m70/70\u001b[0m \u001b[32m━━━━━━━━━━━━━━━━━━━━\u001b[0m\u001b[37m\u001b[0m \u001b[1m1s\u001b[0m 10ms/step - accuracy: 0.8941 - loss: 0.2250 - val_accuracy: 0.9857 - val_loss: 0.0654\n",
      "Epoch 3/5\n",
      "\u001b[1m70/70\u001b[0m \u001b[32m━━━━━━━━━━━━━━━━━━━━\u001b[0m\u001b[37m\u001b[0m \u001b[1m1s\u001b[0m 17ms/step - accuracy: 0.9885 - loss: 0.0465 - val_accuracy: 0.9874 - val_loss: 0.0491\n",
      "Epoch 4/5\n",
      "\u001b[1m70/70\u001b[0m \u001b[32m━━━━━━━━━━━━━━━━━━━━\u001b[0m\u001b[37m\u001b[0m \u001b[1m1s\u001b[0m 18ms/step - accuracy: 0.9950 - loss: 0.0215 - val_accuracy: 0.9865 - val_loss: 0.0501\n",
      "Epoch 5/5\n",
      "\u001b[1m70/70\u001b[0m \u001b[32m━━━━━━━━━━━━━━━━━━━━\u001b[0m\u001b[37m\u001b[0m \u001b[1m1s\u001b[0m 17ms/step - accuracy: 0.9970 - loss: 0.0134 - val_accuracy: 0.9883 - val_loss: 0.0495\n",
      "\u001b[1m35/35\u001b[0m \u001b[32m━━━━━━━━━━━━━━━━━━━━\u001b[0m\u001b[37m\u001b[0m \u001b[1m1s\u001b[0m 9ms/step\n",
      "Test Accuracy with learning rate 0.001: 0.9883\n",
      "Precision with learning rate 0.001: 0.9658\n",
      "-----------------------------------\n",
      "Epoch 1/5\n"
     ]
    },
    {
     "name": "stderr",
     "output_type": "stream",
     "text": [
      "c:\\Users\\Girija\\Desktop\\AI Msc\\BLOCK 04 Research Methods and Applications\\PART B\\ASSESSMENT 3\\SDS_CNN\\.venv\\lib\\site-packages\\keras\\src\\layers\\core\\embedding.py:90: UserWarning: Argument `input_length` is deprecated. Just remove it.\n",
      "  warnings.warn(\n"
     ]
    },
    {
     "name": "stdout",
     "output_type": "stream",
     "text": [
      "\u001b[1m70/70\u001b[0m \u001b[32m━━━━━━━━━━━━━━━━━━━━\u001b[0m\u001b[37m\u001b[0m \u001b[1m5s\u001b[0m 20ms/step - accuracy: 0.8317 - loss: 0.4988 - val_accuracy: 0.8664 - val_loss: 0.2824\n",
      "Epoch 2/5\n",
      "\u001b[1m70/70\u001b[0m \u001b[32m━━━━━━━━━━━━━━━━━━━━\u001b[0m\u001b[37m\u001b[0m \u001b[1m1s\u001b[0m 14ms/step - accuracy: 0.9070 - loss: 0.2084 - val_accuracy: 0.9883 - val_loss: 0.0575\n",
      "Epoch 3/5\n",
      "\u001b[1m70/70\u001b[0m \u001b[32m━━━━━━━━━━━━━━━━━━━━\u001b[0m\u001b[37m\u001b[0m \u001b[1m1s\u001b[0m 16ms/step - accuracy: 0.9889 - loss: 0.0356 - val_accuracy: 0.9892 - val_loss: 0.0478\n",
      "Epoch 4/5\n",
      "\u001b[1m70/70\u001b[0m \u001b[32m━━━━━━━━━━━━━━━━━━━━\u001b[0m\u001b[37m\u001b[0m \u001b[1m1s\u001b[0m 20ms/step - accuracy: 0.9939 - loss: 0.0273 - val_accuracy: 0.9883 - val_loss: 0.0462\n",
      "Epoch 5/5\n",
      "\u001b[1m70/70\u001b[0m \u001b[32m━━━━━━━━━━━━━━━━━━━━\u001b[0m\u001b[37m\u001b[0m \u001b[1m1s\u001b[0m 17ms/step - accuracy: 0.9969 - loss: 0.0137 - val_accuracy: 0.9883 - val_loss: 0.0493\n",
      "\u001b[1m35/35\u001b[0m \u001b[32m━━━━━━━━━━━━━━━━━━━━\u001b[0m\u001b[37m\u001b[0m \u001b[1m0s\u001b[0m 7ms/step\n",
      "Test Accuracy with learning rate 0.01: 0.9883\n",
      "Precision with learning rate 0.01: 0.9722\n",
      "-----------------------------------\n",
      "Epoch 1/5\n"
     ]
    },
    {
     "name": "stderr",
     "output_type": "stream",
     "text": [
      "c:\\Users\\Girija\\Desktop\\AI Msc\\BLOCK 04 Research Methods and Applications\\PART B\\ASSESSMENT 3\\SDS_CNN\\.venv\\lib\\site-packages\\keras\\src\\layers\\core\\embedding.py:90: UserWarning: Argument `input_length` is deprecated. Just remove it.\n",
      "  warnings.warn(\n"
     ]
    },
    {
     "name": "stdout",
     "output_type": "stream",
     "text": [
      "\u001b[1m70/70\u001b[0m \u001b[32m━━━━━━━━━━━━━━━━━━━━\u001b[0m\u001b[37m\u001b[0m \u001b[1m4s\u001b[0m 19ms/step - accuracy: 0.8328 - loss: 0.4990 - val_accuracy: 0.8664 - val_loss: 0.2881\n",
      "Epoch 2/5\n",
      "\u001b[1m70/70\u001b[0m \u001b[32m━━━━━━━━━━━━━━━━━━━━\u001b[0m\u001b[37m\u001b[0m \u001b[1m1s\u001b[0m 13ms/step - accuracy: 0.8934 - loss: 0.2232 - val_accuracy: 0.9865 - val_loss: 0.0571\n",
      "Epoch 3/5\n",
      "\u001b[1m70/70\u001b[0m \u001b[32m━━━━━━━━━━━━━━━━━━━━\u001b[0m\u001b[37m\u001b[0m \u001b[1m2s\u001b[0m 26ms/step - accuracy: 0.9892 - loss: 0.0435 - val_accuracy: 0.9865 - val_loss: 0.0525\n",
      "Epoch 4/5\n",
      "\u001b[1m70/70\u001b[0m \u001b[32m━━━━━━━━━━━━━━━━━━━━\u001b[0m\u001b[37m\u001b[0m \u001b[1m2s\u001b[0m 26ms/step - accuracy: 0.9942 - loss: 0.0252 - val_accuracy: 0.9874 - val_loss: 0.0451\n",
      "Epoch 5/5\n",
      "\u001b[1m70/70\u001b[0m \u001b[32m━━━━━━━━━━━━━━━━━━━━\u001b[0m\u001b[37m\u001b[0m \u001b[1m2s\u001b[0m 30ms/step - accuracy: 0.9977 - loss: 0.0128 - val_accuracy: 0.9865 - val_loss: 0.0519\n",
      "\u001b[1m35/35\u001b[0m \u001b[32m━━━━━━━━━━━━━━━━━━━━\u001b[0m\u001b[37m\u001b[0m \u001b[1m1s\u001b[0m 11ms/step\n",
      "Test Accuracy with learning rate 0.1: 0.9865\n",
      "Precision with learning rate 0.1: 0.9718\n",
      "-----------------------------------\n",
      "Epoch 1/5\n"
     ]
    },
    {
     "name": "stderr",
     "output_type": "stream",
     "text": [
      "c:\\Users\\Girija\\Desktop\\AI Msc\\BLOCK 04 Research Methods and Applications\\PART B\\ASSESSMENT 3\\SDS_CNN\\.venv\\lib\\site-packages\\keras\\src\\layers\\core\\embedding.py:90: UserWarning: Argument `input_length` is deprecated. Just remove it.\n",
      "  warnings.warn(\n"
     ]
    },
    {
     "name": "stdout",
     "output_type": "stream",
     "text": [
      "\u001b[1m70/70\u001b[0m \u001b[32m━━━━━━━━━━━━━━━━━━━━\u001b[0m\u001b[37m\u001b[0m \u001b[1m3s\u001b[0m 15ms/step - accuracy: 0.8477 - loss: 0.4854 - val_accuracy: 0.8664 - val_loss: 0.2953\n",
      "Epoch 2/5\n",
      "\u001b[1m70/70\u001b[0m \u001b[32m━━━━━━━━━━━━━━━━━━━━\u001b[0m\u001b[37m\u001b[0m \u001b[1m1s\u001b[0m 12ms/step - accuracy: 0.8801 - loss: 0.2503 - val_accuracy: 0.9812 - val_loss: 0.0765\n",
      "Epoch 3/5\n",
      "\u001b[1m70/70\u001b[0m \u001b[32m━━━━━━━━━━━━━━━━━━━━\u001b[0m\u001b[37m\u001b[0m \u001b[1m1s\u001b[0m 16ms/step - accuracy: 0.9845 - loss: 0.0510 - val_accuracy: 0.9892 - val_loss: 0.0549\n",
      "Epoch 4/5\n",
      "\u001b[1m70/70\u001b[0m \u001b[32m━━━━━━━━━━━━━━━━━━━━\u001b[0m\u001b[37m\u001b[0m \u001b[1m1s\u001b[0m 15ms/step - accuracy: 0.9926 - loss: 0.0257 - val_accuracy: 0.9865 - val_loss: 0.0516\n",
      "Epoch 5/5\n",
      "\u001b[1m70/70\u001b[0m \u001b[32m━━━━━━━━━━━━━━━━━━━━\u001b[0m\u001b[37m\u001b[0m \u001b[1m1s\u001b[0m 13ms/step - accuracy: 0.9970 - loss: 0.0159 - val_accuracy: 0.9865 - val_loss: 0.0515\n",
      "\u001b[1m35/35\u001b[0m \u001b[32m━━━━━━━━━━━━━━━━━━━━\u001b[0m\u001b[37m\u001b[0m \u001b[1m0s\u001b[0m 6ms/step\n",
      "Test Accuracy with learning rate 0.3: 0.9865\n",
      "Precision with learning rate 0.3: 0.9589\n",
      "-----------------------------------\n"
     ]
    }
   ],
   "source": [
    "\n",
    "#This line initializes a new instance of the LabelEncoder class. LabelEncoder is a utility class in scikit-learn that converts categorical labels into numerical labels.\n",
    "label_encoder = LabelEncoder()\n",
    "#The transformed numerical labels are then assigned back to the 'Category' column in the data DataFrame.\n",
    "data['Category'] = label_encoder.fit_transform(data['Category'])\n",
    "# Split the dataset into training and testing sets\n",
    "X_train, X_test, y_train, y_test = train_test_split(data['Message'], data['Category'], test_size=0.2, random_state=42)\n",
    "# Step 3: Tokenize the text data\n",
    "max_words = 1000 # max_words is a variable that determines the maximum number of unique words to be considered in the tokenizer. In this case, it's set to 1000, meaning only the top 1000 most frequent words will be considered.\n",
    "\n",
    "tokenizer = Tokenizer(num_words=max_words) #Tokenizer is a class from the Keras library used for tokenizing text data.\n",
    "#num_words is a parameter that specifies the maximum number of words to keep, based on word frequency. Words outside this limit will be ignored. Here, it's set to max_words, so only the top 1000 most frequent words will be kept.\n",
    "\n",
    "tokenizer.fit_on_texts(X_train)\n",
    "# Convert text to sequences\n",
    "X_train_seq = tokenizer.texts_to_sequences(X_train)\n",
    "X_test_seq = tokenizer.texts_to_sequences(X_test)\n",
    "\n",
    "\n",
    "# Step 4: Pad sequences to ensure uniform length\n",
    "max_len = 100\n",
    "X_train_pad = pad_sequences(X_train_seq, maxlen=max_len)\n",
    "X_test_pad = pad_sequences(X_test_seq, maxlen=max_len)\n",
    "\n",
    "\n",
    "# Step 5: Build the CNN model\n",
    "embedding_dim = 50\n",
    "num_filters = 64\n",
    "filter_size = 5\n",
    "\n",
    "# Define a list of learning rates to experiment with\n",
    "learning_rates = [0.001, 0.01, 0.1, 0.3]\n",
    "\n",
    "# Train models with different learning rates and evaluate their performance\n",
    "for lr in learning_rates:\n",
    "    #This code defines a Convolutional Neural Network (CNN) model using the Keras Sequential API\n",
    "    model = Sequential([\n",
    "        Embedding(input_dim=max_words, output_dim=embedding_dim, input_length=max_len),  #layer 1\n",
    "        Conv1D(filters=num_filters, kernel_size=filter_size, padding='same', activation='relu'),   #layer 2\n",
    "        GlobalMaxPooling1D(), \n",
    "        Dense(256, activation='relu'),\n",
    "        Dropout(0.5),\n",
    "        Dense(1, activation='sigmoid')\n",
    "    ])\n",
    "\n",
    "\n",
    "    # Compile the model with the specified learning rate\n",
    "    optimizer = Adam(learning_rate=lr)\n",
    "    \n",
    "    # Step 6: Train the model\n",
    "    model.compile(optimizer='adam', loss='binary_crossentropy', metrics=['accuracy'])\n",
    "\n",
    "        \n",
    "    epochs = 5\n",
    "    #epochs specifies the number of epochs (iterations over the entire dataset) for training the model. Here, the model will be trained for 5 epochs.\n",
    "\n",
    "    history = model.fit(X_train_pad, y_train, batch_size=batch_size, epochs=epochs, validation_data=(X_test_pad, y_test))\n",
    "\n",
    "    # Evaluate the model\n",
    "    loss, accuracy = model.evaluate(X_test_pad, y_test, verbose=0)\n",
    "    y_pred_prob = model.predict(X_test_pad)\n",
    "    y_pred = (y_pred_prob > 0.5).astype(int)\n",
    "    precision = precision_score(y_test, y_pred)\n",
    "    \n",
    "    print(f\"Test Accuracy with learning rate {lr}: {accuracy:.4f}\")\n",
    "    print(f\"Precision with learning rate {lr}: {precision:.4f}\")\n",
    "    print(\"-----------------------------------\")\n",
    "\n",
    "    "
   ]
  },
  {
   "cell_type": "markdown",
   "metadata": {},
   "source": [
    "2. **Batch Size**: Experiment with different batch sizes to find the optimal one.\n",
    "    "
   ]
  },
  {
   "cell_type": "code",
   "execution_count": 43,
   "metadata": {},
   "outputs": [
    {
     "name": "stdout",
     "output_type": "stream",
     "text": [
      "Epoch 1/5\n"
     ]
    },
    {
     "name": "stderr",
     "output_type": "stream",
     "text": [
      "c:\\Users\\Girija\\Desktop\\AI Msc\\BLOCK 04 Research Methods and Applications\\PART B\\ASSESSMENT 3\\SDS_CNN\\.venv\\lib\\site-packages\\keras\\src\\layers\\core\\embedding.py:90: UserWarning: Argument `input_length` is deprecated. Just remove it.\n",
      "  warnings.warn(\n"
     ]
    },
    {
     "name": "stdout",
     "output_type": "stream",
     "text": [
      "\u001b[1m279/279\u001b[0m \u001b[32m━━━━━━━━━━━━━━━━━━━━\u001b[0m\u001b[37m\u001b[0m \u001b[1m5s\u001b[0m 10ms/step - accuracy: 0.8818 - loss: 0.3751 - val_accuracy: 0.9812 - val_loss: 0.0658\n",
      "Epoch 2/5\n",
      "\u001b[1m279/279\u001b[0m \u001b[32m━━━━━━━━━━━━━━━━━━━━\u001b[0m\u001b[37m\u001b[0m \u001b[1m2s\u001b[0m 9ms/step - accuracy: 0.9862 - loss: 0.0497 - val_accuracy: 0.9874 - val_loss: 0.0515\n",
      "Epoch 3/5\n",
      "\u001b[1m279/279\u001b[0m \u001b[32m━━━━━━━━━━━━━━━━━━━━\u001b[0m\u001b[37m\u001b[0m \u001b[1m2s\u001b[0m 8ms/step - accuracy: 0.9944 - loss: 0.0217 - val_accuracy: 0.9857 - val_loss: 0.0536\n",
      "Epoch 4/5\n",
      "\u001b[1m279/279\u001b[0m \u001b[32m━━━━━━━━━━━━━━━━━━━━\u001b[0m\u001b[37m\u001b[0m \u001b[1m3s\u001b[0m 9ms/step - accuracy: 0.9988 - loss: 0.0069 - val_accuracy: 0.9883 - val_loss: 0.0595\n",
      "Epoch 5/5\n",
      "\u001b[1m279/279\u001b[0m \u001b[32m━━━━━━━━━━━━━━━━━━━━\u001b[0m\u001b[37m\u001b[0m \u001b[1m2s\u001b[0m 7ms/step - accuracy: 0.9993 - loss: 0.0033 - val_accuracy: 0.9874 - val_loss: 0.0629\n",
      "\u001b[1m35/35\u001b[0m \u001b[32m━━━━━━━━━━━━━━━━━━━━\u001b[0m\u001b[37m\u001b[0m \u001b[1m1s\u001b[0m 11ms/step\n",
      "Precision with batch size 16: 0.97\n",
      "Epoch 1/5\n"
     ]
    },
    {
     "name": "stderr",
     "output_type": "stream",
     "text": [
      "c:\\Users\\Girija\\Desktop\\AI Msc\\BLOCK 04 Research Methods and Applications\\PART B\\ASSESSMENT 3\\SDS_CNN\\.venv\\lib\\site-packages\\keras\\src\\layers\\core\\embedding.py:90: UserWarning: Argument `input_length` is deprecated. Just remove it.\n",
      "  warnings.warn(\n"
     ]
    },
    {
     "name": "stdout",
     "output_type": "stream",
     "text": [
      "\u001b[1m140/140\u001b[0m \u001b[32m━━━━━━━━━━━━━━━━━━━━\u001b[0m\u001b[37m\u001b[0m \u001b[1m5s\u001b[0m 12ms/step - accuracy: 0.8570 - loss: 0.4385 - val_accuracy: 0.9695 - val_loss: 0.1188\n",
      "Epoch 2/5\n",
      "\u001b[1m140/140\u001b[0m \u001b[32m━━━━━━━━━━━━━━━━━━━━\u001b[0m\u001b[37m\u001b[0m \u001b[1m1s\u001b[0m 9ms/step - accuracy: 0.9809 - loss: 0.0830 - val_accuracy: 0.9892 - val_loss: 0.0500\n",
      "Epoch 3/5\n",
      "\u001b[1m140/140\u001b[0m \u001b[32m━━━━━━━━━━━━━━━━━━━━\u001b[0m\u001b[37m\u001b[0m \u001b[1m2s\u001b[0m 11ms/step - accuracy: 0.9931 - loss: 0.0347 - val_accuracy: 0.9857 - val_loss: 0.0467\n",
      "Epoch 4/5\n",
      "\u001b[1m140/140\u001b[0m \u001b[32m━━━━━━━━━━━━━━━━━━━━\u001b[0m\u001b[37m\u001b[0m \u001b[1m2s\u001b[0m 11ms/step - accuracy: 0.9967 - loss: 0.0133 - val_accuracy: 0.9821 - val_loss: 0.0528\n",
      "Epoch 5/5\n",
      "\u001b[1m140/140\u001b[0m \u001b[32m━━━━━━━━━━━━━━━━━━━━\u001b[0m\u001b[37m\u001b[0m \u001b[1m1s\u001b[0m 9ms/step - accuracy: 0.9979 - loss: 0.0107 - val_accuracy: 0.9857 - val_loss: 0.0548\n",
      "\u001b[1m35/35\u001b[0m \u001b[32m━━━━━━━━━━━━━━━━━━━━\u001b[0m\u001b[37m\u001b[0m \u001b[1m0s\u001b[0m 4ms/step\n",
      "Precision with batch size 32: 0.96\n",
      "Epoch 1/5\n"
     ]
    },
    {
     "name": "stderr",
     "output_type": "stream",
     "text": [
      "c:\\Users\\Girija\\Desktop\\AI Msc\\BLOCK 04 Research Methods and Applications\\PART B\\ASSESSMENT 3\\SDS_CNN\\.venv\\lib\\site-packages\\keras\\src\\layers\\core\\embedding.py:90: UserWarning: Argument `input_length` is deprecated. Just remove it.\n",
      "  warnings.warn(\n"
     ]
    },
    {
     "name": "stdout",
     "output_type": "stream",
     "text": [
      "\u001b[1m70/70\u001b[0m \u001b[32m━━━━━━━━━━━━━━━━━━━━\u001b[0m\u001b[37m\u001b[0m \u001b[1m3s\u001b[0m 17ms/step - accuracy: 0.8632 - loss: 0.4769 - val_accuracy: 0.8664 - val_loss: 0.2720\n",
      "Epoch 2/5\n",
      "\u001b[1m70/70\u001b[0m \u001b[32m━━━━━━━━━━━━━━━━━━━━\u001b[0m\u001b[37m\u001b[0m \u001b[1m1s\u001b[0m 13ms/step - accuracy: 0.8807 - loss: 0.2309 - val_accuracy: 0.9794 - val_loss: 0.0834\n",
      "Epoch 3/5\n",
      "\u001b[1m70/70\u001b[0m \u001b[32m━━━━━━━━━━━━━━━━━━━━\u001b[0m\u001b[37m\u001b[0m \u001b[1m1s\u001b[0m 14ms/step - accuracy: 0.9877 - loss: 0.0571 - val_accuracy: 0.9865 - val_loss: 0.0531\n",
      "Epoch 4/5\n",
      "\u001b[1m70/70\u001b[0m \u001b[32m━━━━━━━━━━━━━━━━━━━━\u001b[0m\u001b[37m\u001b[0m \u001b[1m1s\u001b[0m 12ms/step - accuracy: 0.9937 - loss: 0.0274 - val_accuracy: 0.9874 - val_loss: 0.0510\n",
      "Epoch 5/5\n",
      "\u001b[1m70/70\u001b[0m \u001b[32m━━━━━━━━━━━━━━━━━━━━\u001b[0m\u001b[37m\u001b[0m \u001b[1m1s\u001b[0m 15ms/step - accuracy: 0.9963 - loss: 0.0131 - val_accuracy: 0.9883 - val_loss: 0.0526\n",
      "\u001b[1m35/35\u001b[0m \u001b[32m━━━━━━━━━━━━━━━━━━━━\u001b[0m\u001b[37m\u001b[0m \u001b[1m0s\u001b[0m 8ms/step\n",
      "Precision with batch size 64: 0.97\n",
      "Epoch 1/5\n"
     ]
    },
    {
     "name": "stderr",
     "output_type": "stream",
     "text": [
      "c:\\Users\\Girija\\Desktop\\AI Msc\\BLOCK 04 Research Methods and Applications\\PART B\\ASSESSMENT 3\\SDS_CNN\\.venv\\lib\\site-packages\\keras\\src\\layers\\core\\embedding.py:90: UserWarning: Argument `input_length` is deprecated. Just remove it.\n",
      "  warnings.warn(\n"
     ]
    },
    {
     "name": "stdout",
     "output_type": "stream",
     "text": [
      "\u001b[1m35/35\u001b[0m \u001b[32m━━━━━━━━━━━━━━━━━━━━\u001b[0m\u001b[37m\u001b[0m \u001b[1m4s\u001b[0m 32ms/step - accuracy: 0.8361 - loss: 0.5292 - val_accuracy: 0.8664 - val_loss: 0.3683\n",
      "Epoch 2/5\n",
      "\u001b[1m35/35\u001b[0m \u001b[32m━━━━━━━━━━━━━━━━━━━━\u001b[0m\u001b[37m\u001b[0m \u001b[1m1s\u001b[0m 21ms/step - accuracy: 0.8663 - loss: 0.3432 - val_accuracy: 0.8664 - val_loss: 0.2293\n",
      "Epoch 3/5\n",
      "\u001b[1m35/35\u001b[0m \u001b[32m━━━━━━━━━━━━━━━━━━━━\u001b[0m\u001b[37m\u001b[0m \u001b[1m1s\u001b[0m 22ms/step - accuracy: 0.9078 - loss: 0.1820 - val_accuracy: 0.9848 - val_loss: 0.0729\n",
      "Epoch 4/5\n",
      "\u001b[1m35/35\u001b[0m \u001b[32m━━━━━━━━━━━━━━━━━━━━\u001b[0m\u001b[37m\u001b[0m \u001b[1m1s\u001b[0m 21ms/step - accuracy: 0.9877 - loss: 0.0506 - val_accuracy: 0.9892 - val_loss: 0.0518\n",
      "Epoch 5/5\n",
      "\u001b[1m35/35\u001b[0m \u001b[32m━━━━━━━━━━━━━━━━━━━━\u001b[0m\u001b[37m\u001b[0m \u001b[1m1s\u001b[0m 27ms/step - accuracy: 0.9930 - loss: 0.0304 - val_accuracy: 0.9883 - val_loss: 0.0477\n",
      "\u001b[1m35/35\u001b[0m \u001b[32m━━━━━━━━━━━━━━━━━━━━\u001b[0m\u001b[37m\u001b[0m \u001b[1m0s\u001b[0m 5ms/step\n",
      "Precision with batch size 128: 0.97\n"
     ]
    }
   ],
   "source": [
    "#Note: added the above implementation together into single unit, and exicuted it with different batch_size\n",
    "\n",
    "#This line initializes a new instance of the LabelEncoder class. LabelEncoder is a utility class in scikit-learn that converts categorical labels into numerical labels.\n",
    "label_encoder = LabelEncoder()\n",
    "#The transformed numerical labels are then assigned back to the 'Category' column in the data DataFrame.\n",
    "data['Category'] = label_encoder.fit_transform(data['Category'])\n",
    "# Split the dataset into training and testing sets\n",
    "X_train, X_test, y_train, y_test = train_test_split(data['Message'], data['Category'], test_size=0.2, random_state=42)\n",
    "# Step 3: Tokenize the text data\n",
    "max_words = 1000 # max_words is a variable that determines the maximum number of unique words to be considered in the tokenizer. In this case, it's set to 1000, meaning only the top 1000 most frequent words will be considered.\n",
    "\n",
    "tokenizer = Tokenizer(num_words=max_words) #Tokenizer is a class from the Keras library used for tokenizing text data.\n",
    "#num_words is a parameter that specifies the maximum number of words to keep, based on word frequency. Words outside this limit will be ignored. Here, it's set to max_words, so only the top 1000 most frequent words will be kept.\n",
    "\n",
    "tokenizer.fit_on_texts(X_train)\n",
    "# Convert text to sequences\n",
    "X_train_seq = tokenizer.texts_to_sequences(X_train)\n",
    "X_test_seq = tokenizer.texts_to_sequences(X_test)\n",
    "\n",
    "\n",
    "# Step 4: Pad sequences to ensure uniform length\n",
    "max_len = 100\n",
    "X_train_pad = pad_sequences(X_train_seq, maxlen=max_len)\n",
    "X_test_pad = pad_sequences(X_test_seq, maxlen=max_len)\n",
    "\n",
    "\n",
    "# Step 5: Build the CNN model\n",
    "embedding_dim = 50\n",
    "num_filters = 64\n",
    "filter_size = 5\n",
    "\n",
    "\n",
    "# Experiment with different batch sizes\n",
    "batch_sizes = [16, 32, 64, 128]\n",
    "#batch_size determines the number of samples per gradient update during training. In each iteration, the model will process and update weights based on 64 samples.\n",
    "for batch_size in batch_sizes:\n",
    "    #This code defines a Convolutional Neural Network (CNN) model using the Keras Sequential API\n",
    "    model = Sequential([\n",
    "        Embedding(input_dim=max_words, output_dim=embedding_dim, input_length=max_len),  #layer 1\n",
    "        Conv1D(filters=num_filters, kernel_size=filter_size, padding='same', activation='relu'),   #layer 2\n",
    "        GlobalMaxPooling1D(), \n",
    "        Dense(256, activation='relu'),\n",
    "        Dropout(0.5),\n",
    "        Dense(1, activation='sigmoid')\n",
    "    ])\n",
    "\n",
    "    # Step 6: Train the model\n",
    "    model.compile(optimizer='adam', loss='binary_crossentropy', metrics=['accuracy'])\n",
    "\n",
    "        \n",
    "    epochs = 5\n",
    "    #epochs specifies the number of epochs (iterations over the entire dataset) for training the model. Here, the model will be trained for 5 epochs.\n",
    "\n",
    "    history = model.fit(X_train_pad, y_train, batch_size=batch_size, epochs=epochs, validation_data=(X_test_pad, y_test))\n",
    "\n",
    "    # Predict probabilities\n",
    "    y_pred_prob = model.predict(X_test_pad)\n",
    "\n",
    "    # Convert probabilities to binary class labels\n",
    "    y_pred = (y_pred_prob > 0.5).astype(int)\n",
    "\n",
    "    # Calculate precision\n",
    "    precision = precision_score(y_test, y_pred)\n",
    "    print(f'Precision with batch size {batch_size}: {precision:.2f}')\n",
    "\n",
    "    "
   ]
  },
  {
   "cell_type": "markdown",
   "metadata": {},
   "source": [
    "3. **Optimizer Choice**: Compare the performance of different optimizers (SGD, Adam, RMSprop, etc.).\n"
   ]
  },
  {
   "cell_type": "code",
   "execution_count": 44,
   "metadata": {},
   "outputs": [],
   "source": [
    "#import different optimizers\n",
    "from tensorflow.keras.optimizers import SGD, Adam, RMSprop"
   ]
  },
  {
   "cell_type": "code",
   "execution_count": 46,
   "metadata": {},
   "outputs": [
    {
     "name": "stdout",
     "output_type": "stream",
     "text": [
      "Epoch 1/5\n"
     ]
    },
    {
     "name": "stderr",
     "output_type": "stream",
     "text": [
      "c:\\Users\\Girija\\Desktop\\AI Msc\\BLOCK 04 Research Methods and Applications\\PART B\\ASSESSMENT 3\\SDS_CNN\\.venv\\lib\\site-packages\\keras\\src\\layers\\core\\embedding.py:90: UserWarning: Argument `input_length` is deprecated. Just remove it.\n",
      "  warnings.warn(\n"
     ]
    },
    {
     "name": "stdout",
     "output_type": "stream",
     "text": [
      "\u001b[1m35/35\u001b[0m \u001b[32m━━━━━━━━━━━━━━━━━━━━\u001b[0m\u001b[37m\u001b[0m \u001b[1m3s\u001b[0m 28ms/step - accuracy: 0.5655 - loss: 0.6832 - val_accuracy: 0.8664 - val_loss: 0.6151\n",
      "Epoch 2/5\n",
      "\u001b[1m35/35\u001b[0m \u001b[32m━━━━━━━━━━━━━━━━━━━━\u001b[0m\u001b[37m\u001b[0m \u001b[1m1s\u001b[0m 17ms/step - accuracy: 0.8687 - loss: 0.5979 - val_accuracy: 0.8664 - val_loss: 0.5548\n",
      "Epoch 3/5\n",
      "\u001b[1m35/35\u001b[0m \u001b[32m━━━━━━━━━━━━━━━━━━━━\u001b[0m\u001b[37m\u001b[0m \u001b[1m1s\u001b[0m 19ms/step - accuracy: 0.8665 - loss: 0.5426 - val_accuracy: 0.8664 - val_loss: 0.5104\n",
      "Epoch 4/5\n",
      "\u001b[1m35/35\u001b[0m \u001b[32m━━━━━━━━━━━━━━━━━━━━\u001b[0m\u001b[37m\u001b[0m \u001b[1m1s\u001b[0m 24ms/step - accuracy: 0.8673 - loss: 0.5018 - val_accuracy: 0.8664 - val_loss: 0.4766\n",
      "Epoch 5/5\n",
      "\u001b[1m35/35\u001b[0m \u001b[32m━━━━━━━━━━━━━━━━━━━━\u001b[0m\u001b[37m\u001b[0m \u001b[1m1s\u001b[0m 38ms/step - accuracy: 0.8661 - loss: 0.4712 - val_accuracy: 0.8664 - val_loss: 0.4514\n",
      "\u001b[1m35/35\u001b[0m \u001b[32m━━━━━━━━━━━━━━━━━━━━\u001b[0m\u001b[37m\u001b[0m \u001b[1m0s\u001b[0m 5ms/step\n",
      "Optimizer: SGD, Precision: 0.00\n",
      "Epoch 1/5\n"
     ]
    },
    {
     "name": "stderr",
     "output_type": "stream",
     "text": [
      "c:\\Users\\Girija\\Desktop\\AI Msc\\BLOCK 04 Research Methods and Applications\\PART B\\ASSESSMENT 3\\SDS_CNN\\.venv\\lib\\site-packages\\sklearn\\metrics\\_classification.py:1509: UndefinedMetricWarning: Precision is ill-defined and being set to 0.0 due to no predicted samples. Use `zero_division` parameter to control this behavior.\n",
      "  _warn_prf(average, modifier, f\"{metric.capitalize()} is\", len(result))\n",
      "c:\\Users\\Girija\\Desktop\\AI Msc\\BLOCK 04 Research Methods and Applications\\PART B\\ASSESSMENT 3\\SDS_CNN\\.venv\\lib\\site-packages\\keras\\src\\layers\\core\\embedding.py:90: UserWarning: Argument `input_length` is deprecated. Just remove it.\n",
      "  warnings.warn(\n"
     ]
    },
    {
     "name": "stdout",
     "output_type": "stream",
     "text": [
      "\u001b[1m35/35\u001b[0m \u001b[32m━━━━━━━━━━━━━━━━━━━━\u001b[0m\u001b[37m\u001b[0m \u001b[1m3s\u001b[0m 27ms/step - accuracy: 0.8523 - loss: 0.5225 - val_accuracy: 0.8664 - val_loss: 0.3593\n",
      "Epoch 2/5\n",
      "\u001b[1m35/35\u001b[0m \u001b[32m━━━━━━━━━━━━━━━━━━━━\u001b[0m\u001b[37m\u001b[0m \u001b[1m1s\u001b[0m 22ms/step - accuracy: 0.8664 - loss: 0.3276 - val_accuracy: 0.8664 - val_loss: 0.2143\n",
      "Epoch 3/5\n",
      "\u001b[1m35/35\u001b[0m \u001b[32m━━━━━━━━━━━━━━━━━━━━\u001b[0m\u001b[37m\u001b[0m \u001b[1m1s\u001b[0m 23ms/step - accuracy: 0.9095 - loss: 0.1763 - val_accuracy: 0.9785 - val_loss: 0.0875\n",
      "Epoch 4/5\n",
      "\u001b[1m35/35\u001b[0m \u001b[32m━━━━━━━━━━━━━━━━━━━━\u001b[0m\u001b[37m\u001b[0m \u001b[1m1s\u001b[0m 17ms/step - accuracy: 0.9837 - loss: 0.0653 - val_accuracy: 0.9883 - val_loss: 0.0518\n",
      "Epoch 5/5\n",
      "\u001b[1m35/35\u001b[0m \u001b[32m━━━━━━━━━━━━━━━━━━━━\u001b[0m\u001b[37m\u001b[0m \u001b[1m1s\u001b[0m 29ms/step - accuracy: 0.9933 - loss: 0.0284 - val_accuracy: 0.9883 - val_loss: 0.0483\n",
      "\u001b[1m35/35\u001b[0m \u001b[32m━━━━━━━━━━━━━━━━━━━━\u001b[0m\u001b[37m\u001b[0m \u001b[1m1s\u001b[0m 12ms/step\n",
      "Optimizer: Adam, Precision: 0.97\n",
      "Epoch 1/5\n"
     ]
    },
    {
     "name": "stderr",
     "output_type": "stream",
     "text": [
      "c:\\Users\\Girija\\Desktop\\AI Msc\\BLOCK 04 Research Methods and Applications\\PART B\\ASSESSMENT 3\\SDS_CNN\\.venv\\lib\\site-packages\\keras\\src\\layers\\core\\embedding.py:90: UserWarning: Argument `input_length` is deprecated. Just remove it.\n",
      "  warnings.warn(\n"
     ]
    },
    {
     "name": "stdout",
     "output_type": "stream",
     "text": [
      "\u001b[1m35/35\u001b[0m \u001b[32m━━━━━━━━━━━━━━━━━━━━\u001b[0m\u001b[37m\u001b[0m \u001b[1m4s\u001b[0m 41ms/step - accuracy: 0.8177 - loss: 0.4863 - val_accuracy: 0.8664 - val_loss: 0.3736\n",
      "Epoch 2/5\n",
      "\u001b[1m35/35\u001b[0m \u001b[32m━━━━━━━━━━━━━━━━━━━━\u001b[0m\u001b[37m\u001b[0m \u001b[1m1s\u001b[0m 28ms/step - accuracy: 0.8659 - loss: 0.3597 - val_accuracy: 0.8861 - val_loss: 0.2362\n",
      "Epoch 3/5\n",
      "\u001b[1m35/35\u001b[0m \u001b[32m━━━━━━━━━━━━━━━━━━━━\u001b[0m\u001b[37m\u001b[0m \u001b[1m1s\u001b[0m 25ms/step - accuracy: 0.9274 - loss: 0.1973 - val_accuracy: 0.9614 - val_loss: 0.1068\n",
      "Epoch 4/5\n",
      "\u001b[1m35/35\u001b[0m \u001b[32m━━━━━━━━━━━━━━━━━━━━\u001b[0m\u001b[37m\u001b[0m \u001b[1m1s\u001b[0m 24ms/step - accuracy: 0.9793 - loss: 0.0816 - val_accuracy: 0.9848 - val_loss: 0.0624\n",
      "Epoch 5/5\n",
      "\u001b[1m35/35\u001b[0m \u001b[32m━━━━━━━━━━━━━━━━━━━━\u001b[0m\u001b[37m\u001b[0m \u001b[1m1s\u001b[0m 25ms/step - accuracy: 0.9857 - loss: 0.0517 - val_accuracy: 0.9883 - val_loss: 0.0513\n",
      "\u001b[1m35/35\u001b[0m \u001b[32m━━━━━━━━━━━━━━━━━━━━\u001b[0m\u001b[37m\u001b[0m \u001b[1m1s\u001b[0m 9ms/step\n",
      "Optimizer: RMSprop, Precision: 0.97\n"
     ]
    }
   ],
   "source": [
    "\n",
    "#This line initializes a new instance of the LabelEncoder class. LabelEncoder is a utility class in scikit-learn that converts categorical labels into numerical labels.\n",
    "label_encoder = LabelEncoder()\n",
    "#The transformed numerical labels are then assigned back to the 'Category' column in the data DataFrame.\n",
    "data['Category'] = label_encoder.fit_transform(data['Category'])\n",
    "# Split the dataset into training and testing sets\n",
    "X_train, X_test, y_train, y_test = train_test_split(data['Message'], data['Category'], test_size=0.2, random_state=42)\n",
    "# Step 3: Tokenize the text data\n",
    "max_words = 1000 # max_words is a variable that determines the maximum number of unique words to be considered in the tokenizer. In this case, it's set to 1000, meaning only the top 1000 most frequent words will be considered.\n",
    "\n",
    "tokenizer = Tokenizer(num_words=max_words) #Tokenizer is a class from the Keras library used for tokenizing text data.\n",
    "#num_words is a parameter that specifies the maximum number of words to keep, based on word frequency. Words outside this limit will be ignored. Here, it's set to max_words, so only the top 1000 most frequent words will be kept.\n",
    "\n",
    "tokenizer.fit_on_texts(X_train)\n",
    "# Convert text to sequences\n",
    "X_train_seq = tokenizer.texts_to_sequences(X_train)\n",
    "X_test_seq = tokenizer.texts_to_sequences(X_test)\n",
    "\n",
    "\n",
    "# Step 4: Pad sequences to ensure uniform length\n",
    "max_len = 100\n",
    "X_train_pad = pad_sequences(X_train_seq, maxlen=max_len)\n",
    "X_test_pad = pad_sequences(X_test_seq, maxlen=max_len)\n",
    "\n",
    "\n",
    "# Step 5: Build the CNN model\n",
    "embedding_dim = 50\n",
    "num_filters = 64\n",
    "filter_size = 5\n",
    "\n",
    "\n",
    "# Define a list of optimizers to compare\n",
    "optimizers = [SGD(), Adam(), RMSprop()]\n",
    "\n",
    "# Iterate over each optimizer\n",
    "for optimizer in optimizers:\n",
    "    #This code defines a Convolutional Neural Network (CNN) model using the Keras Sequential API\n",
    "    model = Sequential([\n",
    "        Embedding(input_dim=max_words, output_dim=embedding_dim, input_length=max_len),  #layer 1\n",
    "        Conv1D(filters=num_filters, kernel_size=filter_size, padding='same', activation='relu'),   #layer 2\n",
    "        GlobalMaxPooling1D(), \n",
    "        Dense(256, activation='relu'),\n",
    "        Dropout(0.5),\n",
    "        Dense(1, activation='sigmoid')\n",
    "    ])\n",
    "\n",
    "    # Step 6: Train the model\n",
    "    model.compile(optimizer=optimizer, loss='binary_crossentropy', metrics=['accuracy'])\n",
    "\n",
    "        \n",
    "    epochs = 5\n",
    "    #epochs specifies the number of epochs (iterations over the entire dataset) for training the model. Here, the model will be trained for 5 epochs.\n",
    "\n",
    "    history = model.fit(X_train_pad, y_train, batch_size=batch_size, epochs=epochs, validation_data=(X_test_pad, y_test))\n",
    "\n",
    "    # Predict probabilities\n",
    "    y_pred_prob = model.predict(X_test_pad)\n",
    "\n",
    "    # Convert probabilities to binary class labels\n",
    "    y_pred = (y_pred_prob > 0.5).astype(int)\n",
    "\n",
    "    # Calculate precision\n",
    "    precision = precision_score(y_test, y_pred)\n",
    "    print(f'Optimizer: {optimizer.__class__.__name__}, Precision: {precision:.2f}')\n",
    "\n",
    "    "
   ]
  },
  {
   "cell_type": "markdown",
   "metadata": {},
   "source": [
    "4. ***DIfferent Activation Functions***"
   ]
  },
  {
   "cell_type": "code",
   "execution_count": 9,
   "metadata": {},
   "outputs": [
    {
     "name": "stdout",
     "output_type": "stream",
     "text": [
      "Epoch 1/5\n"
     ]
    },
    {
     "name": "stderr",
     "output_type": "stream",
     "text": [
      "c:\\Users\\Girija\\Desktop\\AI Msc\\BLOCK 04 Research Methods and Applications\\PART B\\ASSESSMENT 3\\SDS_CNN\\.venv\\lib\\site-packages\\keras\\src\\layers\\core\\embedding.py:90: UserWarning: Argument `input_length` is deprecated. Just remove it.\n",
      "  warnings.warn(\n"
     ]
    },
    {
     "name": "stdout",
     "output_type": "stream",
     "text": [
      "\u001b[1m70/70\u001b[0m \u001b[32m━━━━━━━━━━━━━━━━━━━━\u001b[0m\u001b[37m\u001b[0m \u001b[1m4s\u001b[0m 20ms/step - accuracy: 0.8499 - loss: 0.4870 - val_accuracy: 0.8664 - val_loss: 0.2764\n",
      "Epoch 2/5\n",
      "\u001b[1m70/70\u001b[0m \u001b[32m━━━━━━━━━━━━━━━━━━━━\u001b[0m\u001b[37m\u001b[0m \u001b[1m1s\u001b[0m 18ms/step - accuracy: 0.9215 - loss: 0.1823 - val_accuracy: 0.9839 - val_loss: 0.0616\n",
      "Epoch 3/5\n",
      "\u001b[1m70/70\u001b[0m \u001b[32m━━━━━━━━━━━━━━━━━━━━\u001b[0m\u001b[37m\u001b[0m \u001b[1m1s\u001b[0m 17ms/step - accuracy: 0.9898 - loss: 0.0351 - val_accuracy: 0.9883 - val_loss: 0.0506\n",
      "Epoch 4/5\n",
      "\u001b[1m70/70\u001b[0m \u001b[32m━━━━━━━━━━━━━━━━━━━━\u001b[0m\u001b[37m\u001b[0m \u001b[1m1s\u001b[0m 14ms/step - accuracy: 0.9955 - loss: 0.0209 - val_accuracy: 0.9892 - val_loss: 0.0499\n",
      "Epoch 5/5\n",
      "\u001b[1m70/70\u001b[0m \u001b[32m━━━━━━━━━━━━━━━━━━━━\u001b[0m\u001b[37m\u001b[0m \u001b[1m1s\u001b[0m 19ms/step - accuracy: 0.9976 - loss: 0.0094 - val_accuracy: 0.9865 - val_loss: 0.0514\n",
      "\u001b[1m35/35\u001b[0m \u001b[32m━━━━━━━━━━━━━━━━━━━━\u001b[0m\u001b[37m\u001b[0m \u001b[1m0s\u001b[0m 7ms/step\n",
      "Activation: relu, Precision: 0.95\n",
      "Epoch 1/5\n"
     ]
    },
    {
     "name": "stderr",
     "output_type": "stream",
     "text": [
      "c:\\Users\\Girija\\Desktop\\AI Msc\\BLOCK 04 Research Methods and Applications\\PART B\\ASSESSMENT 3\\SDS_CNN\\.venv\\lib\\site-packages\\keras\\src\\layers\\core\\embedding.py:90: UserWarning: Argument `input_length` is deprecated. Just remove it.\n",
      "  warnings.warn(\n"
     ]
    },
    {
     "name": "stdout",
     "output_type": "stream",
     "text": [
      "\u001b[1m70/70\u001b[0m \u001b[32m━━━━━━━━━━━━━━━━━━━━\u001b[0m\u001b[37m\u001b[0m \u001b[1m3s\u001b[0m 15ms/step - accuracy: 0.8604 - loss: 0.4533 - val_accuracy: 0.8700 - val_loss: 0.2438\n",
      "Epoch 2/5\n",
      "\u001b[1m70/70\u001b[0m \u001b[32m━━━━━━━━━━━━━━━━━━━━\u001b[0m\u001b[37m\u001b[0m \u001b[1m1s\u001b[0m 11ms/step - accuracy: 0.9425 - loss: 0.1506 - val_accuracy: 0.9865 - val_loss: 0.0575\n",
      "Epoch 3/5\n",
      "\u001b[1m70/70\u001b[0m \u001b[32m━━━━━━━━━━━━━━━━━━━━\u001b[0m\u001b[37m\u001b[0m \u001b[1m1s\u001b[0m 15ms/step - accuracy: 0.9905 - loss: 0.0379 - val_accuracy: 0.9874 - val_loss: 0.0485\n",
      "Epoch 4/5\n",
      "\u001b[1m70/70\u001b[0m \u001b[32m━━━━━━━━━━━━━━━━━━━━\u001b[0m\u001b[37m\u001b[0m \u001b[1m1s\u001b[0m 17ms/step - accuracy: 0.9942 - loss: 0.0222 - val_accuracy: 0.9892 - val_loss: 0.0516\n",
      "Epoch 5/5\n",
      "\u001b[1m70/70\u001b[0m \u001b[32m━━━━━━━━━━━━━━━━━━━━\u001b[0m\u001b[37m\u001b[0m \u001b[1m1s\u001b[0m 18ms/step - accuracy: 0.9993 - loss: 0.0063 - val_accuracy: 0.9892 - val_loss: 0.0518\n",
      "\u001b[1m35/35\u001b[0m \u001b[32m━━━━━━━━━━━━━━━━━━━━\u001b[0m\u001b[37m\u001b[0m \u001b[1m1s\u001b[0m 9ms/step\n",
      "Activation: tanh, Precision: 0.98\n",
      "Epoch 1/5\n"
     ]
    },
    {
     "name": "stderr",
     "output_type": "stream",
     "text": [
      "c:\\Users\\Girija\\Desktop\\AI Msc\\BLOCK 04 Research Methods and Applications\\PART B\\ASSESSMENT 3\\SDS_CNN\\.venv\\lib\\site-packages\\keras\\src\\layers\\core\\embedding.py:90: UserWarning: Argument `input_length` is deprecated. Just remove it.\n",
      "  warnings.warn(\n"
     ]
    },
    {
     "name": "stdout",
     "output_type": "stream",
     "text": [
      "\u001b[1m70/70\u001b[0m \u001b[32m━━━━━━━━━━━━━━━━━━━━\u001b[0m\u001b[37m\u001b[0m \u001b[1m5s\u001b[0m 25ms/step - accuracy: 0.6016 - loss: 0.7362 - val_accuracy: 0.8664 - val_loss: 0.3615\n",
      "Epoch 2/5\n",
      "\u001b[1m70/70\u001b[0m \u001b[32m━━━━━━━━━━━━━━━━━━━━\u001b[0m\u001b[37m\u001b[0m \u001b[1m1s\u001b[0m 13ms/step - accuracy: 0.8755 - loss: 0.3390 - val_accuracy: 0.9596 - val_loss: 0.1291\n",
      "Epoch 3/5\n",
      "\u001b[1m70/70\u001b[0m \u001b[32m━━━━━━━━━━━━━━━━━━━━\u001b[0m\u001b[37m\u001b[0m \u001b[1m1s\u001b[0m 14ms/step - accuracy: 0.9698 - loss: 0.1032 - val_accuracy: 0.9812 - val_loss: 0.0641\n",
      "Epoch 4/5\n",
      "\u001b[1m70/70\u001b[0m \u001b[32m━━━━━━━━━━━━━━━━━━━━\u001b[0m\u001b[37m\u001b[0m \u001b[1m1s\u001b[0m 10ms/step - accuracy: 0.9882 - loss: 0.0433 - val_accuracy: 0.9848 - val_loss: 0.0531\n",
      "Epoch 5/5\n",
      "\u001b[1m70/70\u001b[0m \u001b[32m━━━━━━━━━━━━━━━━━━━━\u001b[0m\u001b[37m\u001b[0m \u001b[1m1s\u001b[0m 10ms/step - accuracy: 0.9924 - loss: 0.0305 - val_accuracy: 0.9865 - val_loss: 0.0488\n",
      "\u001b[1m35/35\u001b[0m \u001b[32m━━━━━━━━━━━━━━━━━━━━\u001b[0m\u001b[37m\u001b[0m \u001b[1m0s\u001b[0m 5ms/step\n",
      "Activation: sigmoid, Precision: 0.97\n",
      "Epoch 1/5\n"
     ]
    },
    {
     "name": "stderr",
     "output_type": "stream",
     "text": [
      "c:\\Users\\Girija\\Desktop\\AI Msc\\BLOCK 04 Research Methods and Applications\\PART B\\ASSESSMENT 3\\SDS_CNN\\.venv\\lib\\site-packages\\keras\\src\\layers\\core\\embedding.py:90: UserWarning: Argument `input_length` is deprecated. Just remove it.\n",
      "  warnings.warn(\n"
     ]
    },
    {
     "name": "stdout",
     "output_type": "stream",
     "text": [
      "\u001b[1m70/70\u001b[0m \u001b[32m━━━━━━━━━━━━━━━━━━━━\u001b[0m\u001b[37m\u001b[0m \u001b[1m4s\u001b[0m 16ms/step - accuracy: 0.8298 - loss: 0.4699 - val_accuracy: 0.8664 - val_loss: 0.2592\n",
      "Epoch 2/5\n",
      "\u001b[1m70/70\u001b[0m \u001b[32m━━━━━━━━━━━━━━━━━━━━\u001b[0m\u001b[37m\u001b[0m \u001b[1m1s\u001b[0m 13ms/step - accuracy: 0.9326 - loss: 0.1634 - val_accuracy: 0.9874 - val_loss: 0.0548\n",
      "Epoch 3/5\n",
      "\u001b[1m70/70\u001b[0m \u001b[32m━━━━━━━━━━━━━━━━━━━━\u001b[0m\u001b[37m\u001b[0m \u001b[1m1s\u001b[0m 10ms/step - accuracy: 0.9928 - loss: 0.0340 - val_accuracy: 0.9883 - val_loss: 0.0474\n",
      "Epoch 4/5\n",
      "\u001b[1m70/70\u001b[0m \u001b[32m━━━━━━━━━━━━━━━━━━━━\u001b[0m\u001b[37m\u001b[0m \u001b[1m1s\u001b[0m 10ms/step - accuracy: 0.9981 - loss: 0.0117 - val_accuracy: 0.9865 - val_loss: 0.0461\n",
      "Epoch 5/5\n",
      "\u001b[1m70/70\u001b[0m \u001b[32m━━━━━━━━━━━━━━━━━━━━\u001b[0m\u001b[37m\u001b[0m \u001b[1m1s\u001b[0m 11ms/step - accuracy: 0.9982 - loss: 0.0090 - val_accuracy: 0.9865 - val_loss: 0.0499\n",
      "\u001b[1m35/35\u001b[0m \u001b[32m━━━━━━━━━━━━━━━━━━━━\u001b[0m\u001b[37m\u001b[0m \u001b[1m0s\u001b[0m 5ms/step\n",
      "Activation: elu, Precision: 0.97\n"
     ]
    }
   ],
   "source": [
    "\n",
    "#This line initializes a new instance of the LabelEncoder class. LabelEncoder is a utility class in scikit-learn that converts categorical labels into numerical labels.\n",
    "label_encoder = LabelEncoder()\n",
    "#The transformed numerical labels are then assigned back to the 'Category' column in the data DataFrame.\n",
    "data['Category'] = label_encoder.fit_transform(data['Category'])\n",
    "# Split the dataset into training and testing sets\n",
    "X_train, X_test, y_train, y_test = train_test_split(data['Message'], data['Category'], test_size=0.2, random_state=42)\n",
    "# Step 3: Tokenize the text data\n",
    "max_words = 1000 # max_words is a variable that determines the maximum number of unique words to be considered in the tokenizer. In this case, it's set to 1000, meaning only the top 1000 most frequent words will be considered.\n",
    "\n",
    "tokenizer = Tokenizer(num_words=max_words) #Tokenizer is a class from the Keras library used for tokenizing text data.\n",
    "#num_words is a parameter that specifies the maximum number of words to keep, based on word frequency. Words outside this limit will be ignored. Here, it's set to max_words, so only the top 1000 most frequent words will be kept.\n",
    "\n",
    "tokenizer.fit_on_texts(X_train)\n",
    "# Convert text to sequences\n",
    "X_train_seq = tokenizer.texts_to_sequences(X_train)\n",
    "X_test_seq = tokenizer.texts_to_sequences(X_test)\n",
    "\n",
    "\n",
    "# Step 4: Pad sequences to ensure uniform length\n",
    "max_len = 100\n",
    "X_train_pad = pad_sequences(X_train_seq, maxlen=max_len)\n",
    "X_test_pad = pad_sequences(X_test_seq, maxlen=max_len)\n",
    "\n",
    "\n",
    "# Step 5: Build the CNN model\n",
    "embedding_dim = 50\n",
    "num_filters = 64\n",
    "filter_size = 5\n",
    "\n",
    "\n",
    "batch_size = 64\n",
    "\n",
    "# Activation functions to test\n",
    "activation_functions = ['relu', 'tanh', 'sigmoid', 'elu']\n",
    "\n",
    "# Iterate over each optimizer\n",
    "for activation in activation_functions:\n",
    "    #This code defines a Convolutional Neural Network (CNN) model using the Keras Sequential API\n",
    "    model = Sequential([\n",
    "        Embedding(input_dim=max_words, output_dim=embedding_dim, input_length=max_len),  #layer 1\n",
    "        Conv1D(filters=num_filters, kernel_size=filter_size, padding='same', activation='elu'),   #layer 2\n",
    "        GlobalMaxPooling1D(), \n",
    "        Dense(256, activation=activation),\n",
    "        Dropout(0.5),\n",
    "        Dense(1, activation='sigmoid')\n",
    "    ])\n",
    "\n",
    "    # Step 6: Train the model\n",
    "    model.compile(optimizer=\"adam\", loss='binary_crossentropy', metrics=['accuracy'])\n",
    "\n",
    "        \n",
    "    epochs = 5\n",
    "    #epochs specifies the number of epochs (iterations over the entire dataset) for training the model. Here, the model will be trained for 5 epochs.\n",
    "\n",
    "    history = model.fit(X_train_pad, y_train, batch_size=batch_size, epochs=epochs, validation_data=(X_test_pad, y_test))\n",
    "\n",
    "    # Predict probabilities\n",
    "    y_pred_prob = model.predict(X_test_pad)\n",
    "\n",
    "    # Convert probabilities to binary class labels\n",
    "    y_pred = (y_pred_prob > 0.5).astype(int)\n",
    "\n",
    "    # Calculate precision\n",
    "    precision = precision_score(y_test, y_pred)\n",
    "    print(f'Activation: {activation}, Precision: {precision:.2f}')\n",
    "\n",
    "    "
   ]
  }
 ],
 "metadata": {
  "kernelspec": {
   "display_name": ".vnev",
   "language": "python",
   "name": "python3"
  },
  "language_info": {
   "codemirror_mode": {
    "name": "ipython",
    "version": 3
   },
   "file_extension": ".py",
   "mimetype": "text/x-python",
   "name": "python",
   "nbconvert_exporter": "python",
   "pygments_lexer": "ipython3",
   "version": "3.10.4"
  }
 },
 "nbformat": 4,
 "nbformat_minor": 2
}
